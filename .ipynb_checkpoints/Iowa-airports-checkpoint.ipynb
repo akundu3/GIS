{
 "cells": [
  {
   "cell_type": "code",
   "execution_count": 1,
   "metadata": {},
   "outputs": [],
   "source": [
    "import geopandas as gpd"
   ]
  },
  {
   "cell_type": "code",
   "execution_count": 2,
   "metadata": {},
   "outputs": [
    {
     "name": "stdout",
     "output_type": "stream",
     "text": [
      "/Users/guiter-kundu/Documents/GIS\r\n"
     ]
    }
   ],
   "source": [
    "!pwd"
   ]
  },
  {
   "cell_type": "code",
   "execution_count": 3,
   "metadata": {},
   "outputs": [],
   "source": [
    "file_path = \"/Users/guiter-kundu/Downloads/Data/Iowa-shape/Trans_AirportPoint.shp\"\n",
    "raw_data = gpd.read_file(file_path)"
   ]
  },
  {
   "cell_type": "code",
   "execution_count": 4,
   "metadata": {},
   "outputs": [
    {
     "data": {
      "text/html": [
       "<div>\n",
       "<style scoped>\n",
       "    .dataframe tbody tr th:only-of-type {\n",
       "        vertical-align: middle;\n",
       "    }\n",
       "\n",
       "    .dataframe tbody tr th {\n",
       "        vertical-align: top;\n",
       "    }\n",
       "\n",
       "    .dataframe thead th {\n",
       "        text-align: right;\n",
       "    }\n",
       "</style>\n",
       "<table border=\"1\" class=\"dataframe\">\n",
       "  <thead>\n",
       "    <tr style=\"text-align: right;\">\n",
       "      <th></th>\n",
       "      <th>OBJECTID</th>\n",
       "      <th>Permanent_</th>\n",
       "      <th>Source_Fea</th>\n",
       "      <th>Source_Dat</th>\n",
       "      <th>Source_D_1</th>\n",
       "      <th>Source_Ori</th>\n",
       "      <th>Data_Secur</th>\n",
       "      <th>Distributi</th>\n",
       "      <th>LoadDate</th>\n",
       "      <th>FType</th>\n",
       "      <th>FCode</th>\n",
       "      <th>Airport_Cl</th>\n",
       "      <th>FAA_Airpor</th>\n",
       "      <th>Name</th>\n",
       "      <th>GNIS_ID</th>\n",
       "      <th>geometry</th>\n",
       "    </tr>\n",
       "  </thead>\n",
       "  <tbody>\n",
       "    <tr>\n",
       "      <th>0</th>\n",
       "      <td>1</td>\n",
       "      <td>6a4bfd09-9222-4d92-b6e9-1478c8511732</td>\n",
       "      <td>None</td>\n",
       "      <td>{288B0C1E-84F9-4103-8212-C0F5AB2E3AAB}</td>\n",
       "      <td>Public and Private Airports</td>\n",
       "      <td>Federal Aviation Administration</td>\n",
       "      <td>5</td>\n",
       "      <td>E4</td>\n",
       "      <td>2017-07-31</td>\n",
       "      <td>201</td>\n",
       "      <td>20100</td>\n",
       "      <td>1</td>\n",
       "      <td>2VA</td>\n",
       "      <td>12/30</td>\n",
       "      <td>None</td>\n",
       "      <td>POINT (-96.40510327850836 43.45104635963867)</td>\n",
       "    </tr>\n",
       "    <tr>\n",
       "      <th>1</th>\n",
       "      <td>2</td>\n",
       "      <td>9d33c994-a22a-43ab-97e0-a6578df442e3</td>\n",
       "      <td>None</td>\n",
       "      <td>{288B0C1E-84F9-4103-8212-C0F5AB2E3AAB}</td>\n",
       "      <td>Public and Private Airports</td>\n",
       "      <td>Federal Aviation Administration</td>\n",
       "      <td>5</td>\n",
       "      <td>E4</td>\n",
       "      <td>2017-07-31</td>\n",
       "      <td>201</td>\n",
       "      <td>20100</td>\n",
       "      <td>2</td>\n",
       "      <td>RRQ</td>\n",
       "      <td>16/34</td>\n",
       "      <td>None</td>\n",
       "      <td>POINT (-96.17979002781641 43.45221999922018)</td>\n",
       "    </tr>\n",
       "    <tr>\n",
       "      <th>2</th>\n",
       "      <td>3</td>\n",
       "      <td>{D56F33B0-28B8-4A96-89CE-1EA2F6FD8FC9}</td>\n",
       "      <td>None</td>\n",
       "      <td>{288B0C1E-84F9-4103-8212-C0F5AB2E3AAB}</td>\n",
       "      <td>Public and Private Airports</td>\n",
       "      <td>Federal Aviation Administration</td>\n",
       "      <td>5</td>\n",
       "      <td>E4</td>\n",
       "      <td>2017-07-31</td>\n",
       "      <td>200</td>\n",
       "      <td>20000</td>\n",
       "      <td>1</td>\n",
       "      <td>29IA</td>\n",
       "      <td>Hilltop Airport</td>\n",
       "      <td>2717067</td>\n",
       "      <td>POINT (-95.62289900784748 40.7524265565358)</td>\n",
       "    </tr>\n",
       "    <tr>\n",
       "      <th>3</th>\n",
       "      <td>4</td>\n",
       "      <td>8180f914-a140-46fa-a513-e194e4822c64</td>\n",
       "      <td>None</td>\n",
       "      <td>{288B0C1E-84F9-4103-8212-C0F5AB2E3AAB}</td>\n",
       "      <td>Public and Private Airports</td>\n",
       "      <td>Federal Aviation Administration</td>\n",
       "      <td>5</td>\n",
       "      <td>E4</td>\n",
       "      <td>2017-07-31</td>\n",
       "      <td>200</td>\n",
       "      <td>20000</td>\n",
       "      <td>1</td>\n",
       "      <td>IA35</td>\n",
       "      <td>Ruckl Airport</td>\n",
       "      <td>466757</td>\n",
       "      <td>POINT (-95.90029674804191 41.18716289544432)</td>\n",
       "    </tr>\n",
       "    <tr>\n",
       "      <th>4</th>\n",
       "      <td>5</td>\n",
       "      <td>ba7c1d2e-0cc6-4c7a-9694-e2bf9aeac772</td>\n",
       "      <td>None</td>\n",
       "      <td>{288B0C1E-84F9-4103-8212-C0F5AB2E3AAB}</td>\n",
       "      <td>Public and Private Airports</td>\n",
       "      <td>Federal Aviation Administration</td>\n",
       "      <td>5</td>\n",
       "      <td>E4</td>\n",
       "      <td>2017-07-31</td>\n",
       "      <td>201</td>\n",
       "      <td>20100</td>\n",
       "      <td>2</td>\n",
       "      <td>3Y4</td>\n",
       "      <td>17/35</td>\n",
       "      <td>None</td>\n",
       "      <td>POINT (-95.68362002858657 41.73610000188393)</td>\n",
       "    </tr>\n",
       "  </tbody>\n",
       "</table>\n",
       "</div>"
      ],
      "text/plain": [
       "   OBJECTID                              Permanent_ Source_Fea  \\\n",
       "0         1    6a4bfd09-9222-4d92-b6e9-1478c8511732       None   \n",
       "1         2    9d33c994-a22a-43ab-97e0-a6578df442e3       None   \n",
       "2         3  {D56F33B0-28B8-4A96-89CE-1EA2F6FD8FC9}       None   \n",
       "3         4    8180f914-a140-46fa-a513-e194e4822c64       None   \n",
       "4         5    ba7c1d2e-0cc6-4c7a-9694-e2bf9aeac772       None   \n",
       "\n",
       "                               Source_Dat                   Source_D_1  \\\n",
       "0  {288B0C1E-84F9-4103-8212-C0F5AB2E3AAB}  Public and Private Airports   \n",
       "1  {288B0C1E-84F9-4103-8212-C0F5AB2E3AAB}  Public and Private Airports   \n",
       "2  {288B0C1E-84F9-4103-8212-C0F5AB2E3AAB}  Public and Private Airports   \n",
       "3  {288B0C1E-84F9-4103-8212-C0F5AB2E3AAB}  Public and Private Airports   \n",
       "4  {288B0C1E-84F9-4103-8212-C0F5AB2E3AAB}  Public and Private Airports   \n",
       "\n",
       "                        Source_Ori  Data_Secur Distributi    LoadDate  FType  \\\n",
       "0  Federal Aviation Administration           5         E4  2017-07-31    201   \n",
       "1  Federal Aviation Administration           5         E4  2017-07-31    201   \n",
       "2  Federal Aviation Administration           5         E4  2017-07-31    200   \n",
       "3  Federal Aviation Administration           5         E4  2017-07-31    200   \n",
       "4  Federal Aviation Administration           5         E4  2017-07-31    201   \n",
       "\n",
       "   FCode  Airport_Cl FAA_Airpor             Name  GNIS_ID  \\\n",
       "0  20100           1        2VA            12/30     None   \n",
       "1  20100           2        RRQ            16/34     None   \n",
       "2  20000           1       29IA  Hilltop Airport  2717067   \n",
       "3  20000           1       IA35    Ruckl Airport   466757   \n",
       "4  20100           2        3Y4            17/35     None   \n",
       "\n",
       "                                       geometry  \n",
       "0  POINT (-96.40510327850836 43.45104635963867)  \n",
       "1  POINT (-96.17979002781641 43.45221999922018)  \n",
       "2   POINT (-95.62289900784748 40.7524265565358)  \n",
       "3  POINT (-95.90029674804191 41.18716289544432)  \n",
       "4  POINT (-95.68362002858657 41.73610000188393)  "
      ]
     },
     "execution_count": 4,
     "metadata": {},
     "output_type": "execute_result"
    }
   ],
   "source": [
    "raw_data.head(5)"
   ]
  },
  {
   "cell_type": "code",
   "execution_count": 5,
   "metadata": {},
   "outputs": [
    {
     "data": {
      "text/plain": [
       "geopandas.geodataframe.GeoDataFrame"
      ]
     },
     "execution_count": 5,
     "metadata": {},
     "output_type": "execute_result"
    }
   ],
   "source": [
    "type(raw_data)"
   ]
  },
  {
   "cell_type": "code",
   "execution_count": 8,
   "metadata": {},
   "outputs": [
    {
     "data": {
      "text/plain": [
       "<matplotlib.axes._subplots.AxesSubplot at 0x1207bf438>"
      ]
     },
     "execution_count": 8,
     "metadata": {},
     "output_type": "execute_result"
    },
    {
     "data": {
      "image/png": "[encoded data removed]",
      "text/plain": [
       "<Figure size 432x288 with 1 Axes>"
      ]
     },
     "metadata": {
      "needs_background": "light"
     },
     "output_type": "display_data"
    }
   ],
   "source": [
    "raw_data.plot()"
   ]
  },
  {
   "cell_type": "code",
   "execution_count": 7,
   "metadata": {},
   "outputs": [],
   "source": [
    "%matplotlib inline"
   ]
  },
  {
   "cell_type": "code",
   "execution_count": 9,
   "metadata": {},
   "outputs": [
    {
     "data": {
      "text/plain": [
       "OBJECTID        0\n",
       "Permanent_      0\n",
       "Source_Fea    427\n",
       "Source_Dat      0\n",
       "Source_D_1      0\n",
       "Source_Ori      0\n",
       "Data_Secur      0\n",
       "Distributi      0\n",
       "LoadDate        0\n",
       "FType           0\n",
       "FCode           0\n",
       "Airport_Cl      0\n",
       "FAA_Airpor      0\n",
       "Name            0\n",
       "GNIS_ID       243\n",
       "geometry        0\n",
       "dtype: int64"
      ]
     },
     "execution_count": 9,
     "metadata": {},
     "output_type": "execute_result"
    }
   ],
   "source": [
    "raw_data.isna().sum()"
   ]
  },
  {
   "cell_type": "code",
   "execution_count": 10,
   "metadata": {},
   "outputs": [],
   "source": [
    "data = raw_data.dropna()"
   ]
  },
  {
   "cell_type": "code",
   "execution_count": 12,
   "metadata": {},
   "outputs": [
    {
     "data": {
      "text/plain": [
       "OBJECTID      0\n",
       "Permanent_    0\n",
       "Source_Fea    0\n",
       "Source_Dat    0\n",
       "Source_D_1    0\n",
       "Source_Ori    0\n",
       "Data_Secur    0\n",
       "Distributi    0\n",
       "LoadDate      0\n",
       "FType         0\n",
       "FCode         0\n",
       "Airport_Cl    0\n",
       "FAA_Airpor    0\n",
       "Name          0\n",
       "GNIS_ID       0\n",
       "geometry      0\n",
       "dtype: int64"
      ]
     },
     "execution_count": 12,
     "metadata": {},
     "output_type": "execute_result"
    }
   ],
   "source": [
    "data.isna().sum()"
   ]
  },
  {
   "cell_type": "code",
   "execution_count": null,
   "metadata": {},
   "outputs": [],
   "source": []
  }
 ],
 "metadata": {
  "kernelspec": {
   "display_name": "Python 3",
   "language": "python",
   "name": "python3"
  },
  "language_info": {
   "codemirror_mode": {
    "name": "ipython",
    "version": 3
   },
   "file_extension": ".py",
   "mimetype": "text/x-python",
   "name": "python",
   "nbconvert_exporter": "python",
   "pygments_lexer": "ipython3",
   "version": "3.6.0"
  }
 },
 "nbformat": 4,
 "nbformat_minor": 2
}
